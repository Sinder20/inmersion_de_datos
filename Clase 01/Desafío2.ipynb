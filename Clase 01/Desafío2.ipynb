{
 "cells": [
  {
   "attachments": {},
   "cell_type": "markdown",
   "metadata": {},
   "source": [
    "## Desafío:\n",
    "2. Consultar otros datos estadísticos, conteo, mediana, valores mínimo y máximo."
   ]
  },
  {
   "cell_type": "code",
   "execution_count": 1,
   "metadata": {},
   "outputs": [
    {
     "data": {
      "text/html": [
       "<div>\n",
       "<style scoped>\n",
       "    .dataframe tbody tr th:only-of-type {\n",
       "        vertical-align: middle;\n",
       "    }\n",
       "\n",
       "    .dataframe tbody tr th {\n",
       "        vertical-align: top;\n",
       "    }\n",
       "\n",
       "    .dataframe thead th {\n",
       "        text-align: right;\n",
       "    }\n",
       "</style>\n",
       "<table border=\"1\" class=\"dataframe\">\n",
       "  <thead>\n",
       "    <tr style=\"text-align: right;\">\n",
       "      <th></th>\n",
       "      <th>Tipo</th>\n",
       "      <th>Descripcion</th>\n",
       "      <th>Habitaciones</th>\n",
       "      <th>Baños</th>\n",
       "      <th>Área</th>\n",
       "      <th>Barrio</th>\n",
       "      <th>UPZ</th>\n",
       "      <th>Valor</th>\n",
       "    </tr>\n",
       "  </thead>\n",
       "  <tbody>\n",
       "    <tr>\n",
       "      <th>0</th>\n",
       "      <td>Apartamento</td>\n",
       "      <td>Apartamento en venta en Zona Noroccidental</td>\n",
       "      <td>3</td>\n",
       "      <td>2</td>\n",
       "      <td>70</td>\n",
       "      <td>Zona Noroccidental</td>\n",
       "      <td>CHAPINERO: Pardo Rubio + Chapinero</td>\n",
       "      <td>$ 360.000.000</td>\n",
       "    </tr>\n",
       "    <tr>\n",
       "      <th>1</th>\n",
       "      <td>Casa</td>\n",
       "      <td>Casa en venta en Castilla</td>\n",
       "      <td>4</td>\n",
       "      <td>3</td>\n",
       "      <td>170</td>\n",
       "      <td>Castilla</td>\n",
       "      <td>KENNEDY: Castilla + Bavaria</td>\n",
       "      <td>$ 670.000.000</td>\n",
       "    </tr>\n",
       "    <tr>\n",
       "      <th>2</th>\n",
       "      <td>Apartamento</td>\n",
       "      <td>Apartamento en venta en Chico Reservado</td>\n",
       "      <td>3</td>\n",
       "      <td>3</td>\n",
       "      <td>144</td>\n",
       "      <td>Chico Reservado</td>\n",
       "      <td>CHAPINERO: Chicó Lago + El Refugio</td>\n",
       "      <td>$ 1.120.000.000</td>\n",
       "    </tr>\n",
       "    <tr>\n",
       "      <th>3</th>\n",
       "      <td>Apartamento</td>\n",
       "      <td>Apartamento en venta en Usaquén</td>\n",
       "      <td>3</td>\n",
       "      <td>2</td>\n",
       "      <td>154</td>\n",
       "      <td>Usaquén</td>\n",
       "      <td>Usaquén</td>\n",
       "      <td>$ 890.000.000</td>\n",
       "    </tr>\n",
       "    <tr>\n",
       "      <th>4</th>\n",
       "      <td>Apartamento</td>\n",
       "      <td>Apartamento en venta en Bella Suiza</td>\n",
       "      <td>2</td>\n",
       "      <td>3</td>\n",
       "      <td>128</td>\n",
       "      <td>Bella Suiza</td>\n",
       "      <td>USAQUÉN: Country Club + Santa Bárbara</td>\n",
       "      <td>$ 970.000.000</td>\n",
       "    </tr>\n",
       "  </tbody>\n",
       "</table>\n",
       "</div>"
      ],
      "text/plain": [
       "          Tipo                                 Descripcion  Habitaciones  \\\n",
       "0  Apartamento  Apartamento en venta en Zona Noroccidental             3   \n",
       "1         Casa                   Casa en venta en Castilla             4   \n",
       "2  Apartamento     Apartamento en venta en Chico Reservado             3   \n",
       "3  Apartamento             Apartamento en venta en Usaquén             3   \n",
       "4  Apartamento         Apartamento en venta en Bella Suiza             2   \n",
       "\n",
       "   Baños  Área              Barrio                                    UPZ  \\\n",
       "0      2    70  Zona Noroccidental     CHAPINERO: Pardo Rubio + Chapinero   \n",
       "1      3   170            Castilla            KENNEDY: Castilla + Bavaria   \n",
       "2      3   144     Chico Reservado     CHAPINERO: Chicó Lago + El Refugio   \n",
       "3      2   154             Usaquén                                Usaquén   \n",
       "4      3   128         Bella Suiza  USAQUÉN: Country Club + Santa Bárbara   \n",
       "\n",
       "             Valor  \n",
       "0    $ 360.000.000  \n",
       "1    $ 670.000.000  \n",
       "2  $ 1.120.000.000  \n",
       "3    $ 890.000.000  \n",
       "4    $ 970.000.000  "
      ]
     },
     "execution_count": 1,
     "metadata": {},
     "output_type": "execute_result"
    }
   ],
   "source": [
    "import pandas as pd\n",
    "\n",
    "inmuebles = pd.read_csv(\"inmuebles_bogota.csv\")\n",
    "inmuebles.head()"
   ]
  },
  {
   "cell_type": "code",
   "execution_count": 2,
   "metadata": {},
   "outputs": [
    {
     "data": {
      "text/html": [
       "<div>\n",
       "<style scoped>\n",
       "    .dataframe tbody tr th:only-of-type {\n",
       "        vertical-align: middle;\n",
       "    }\n",
       "\n",
       "    .dataframe tbody tr th {\n",
       "        vertical-align: top;\n",
       "    }\n",
       "\n",
       "    .dataframe thead th {\n",
       "        text-align: right;\n",
       "    }\n",
       "</style>\n",
       "<table border=\"1\" class=\"dataframe\">\n",
       "  <thead>\n",
       "    <tr style=\"text-align: right;\">\n",
       "      <th></th>\n",
       "      <th>Tipo</th>\n",
       "      <th>Descripcion</th>\n",
       "      <th>Habitaciones</th>\n",
       "      <th>Banos</th>\n",
       "      <th>Area</th>\n",
       "      <th>Barrio</th>\n",
       "      <th>UPZ</th>\n",
       "      <th>Valor</th>\n",
       "    </tr>\n",
       "  </thead>\n",
       "  <tbody>\n",
       "    <tr>\n",
       "      <th>0</th>\n",
       "      <td>Apartamento</td>\n",
       "      <td>Apartamento en venta en Zona Noroccidental</td>\n",
       "      <td>3</td>\n",
       "      <td>2</td>\n",
       "      <td>70</td>\n",
       "      <td>Zona Noroccidental</td>\n",
       "      <td>CHAPINERO: Pardo Rubio + Chapinero</td>\n",
       "      <td>$ 360.000.000</td>\n",
       "    </tr>\n",
       "    <tr>\n",
       "      <th>1</th>\n",
       "      <td>Casa</td>\n",
       "      <td>Casa en venta en Castilla</td>\n",
       "      <td>4</td>\n",
       "      <td>3</td>\n",
       "      <td>170</td>\n",
       "      <td>Castilla</td>\n",
       "      <td>KENNEDY: Castilla + Bavaria</td>\n",
       "      <td>$ 670.000.000</td>\n",
       "    </tr>\n",
       "    <tr>\n",
       "      <th>2</th>\n",
       "      <td>Apartamento</td>\n",
       "      <td>Apartamento en venta en Chico Reservado</td>\n",
       "      <td>3</td>\n",
       "      <td>3</td>\n",
       "      <td>144</td>\n",
       "      <td>Chico Reservado</td>\n",
       "      <td>CHAPINERO: Chicó Lago + El Refugio</td>\n",
       "      <td>$ 1.120.000.000</td>\n",
       "    </tr>\n",
       "    <tr>\n",
       "      <th>3</th>\n",
       "      <td>Apartamento</td>\n",
       "      <td>Apartamento en venta en Usaquén</td>\n",
       "      <td>3</td>\n",
       "      <td>2</td>\n",
       "      <td>154</td>\n",
       "      <td>Usaquén</td>\n",
       "      <td>Usaquén</td>\n",
       "      <td>$ 890.000.000</td>\n",
       "    </tr>\n",
       "    <tr>\n",
       "      <th>4</th>\n",
       "      <td>Apartamento</td>\n",
       "      <td>Apartamento en venta en Bella Suiza</td>\n",
       "      <td>2</td>\n",
       "      <td>3</td>\n",
       "      <td>128</td>\n",
       "      <td>Bella Suiza</td>\n",
       "      <td>USAQUÉN: Country Club + Santa Bárbara</td>\n",
       "      <td>$ 970.000.000</td>\n",
       "    </tr>\n",
       "    <tr>\n",
       "      <th>...</th>\n",
       "      <td>...</td>\n",
       "      <td>...</td>\n",
       "      <td>...</td>\n",
       "      <td>...</td>\n",
       "      <td>...</td>\n",
       "      <td>...</td>\n",
       "      <td>...</td>\n",
       "      <td>...</td>\n",
       "    </tr>\n",
       "    <tr>\n",
       "      <th>9515</th>\n",
       "      <td>Apartamento</td>\n",
       "      <td>Apartamento en venta en Kennedy</td>\n",
       "      <td>3</td>\n",
       "      <td>2</td>\n",
       "      <td>70</td>\n",
       "      <td>Kennedy</td>\n",
       "      <td>Kennedy Central</td>\n",
       "      <td>$ 290.000.000</td>\n",
       "    </tr>\n",
       "    <tr>\n",
       "      <th>9516</th>\n",
       "      <td>Apartamento</td>\n",
       "      <td>Apartamento en venta en Parque Central Bavaria</td>\n",
       "      <td>2</td>\n",
       "      <td>2</td>\n",
       "      <td>100</td>\n",
       "      <td>Parque Central Bavaria</td>\n",
       "      <td>SANTA FE: Las Nieves + Sagrado Corazón</td>\n",
       "      <td>$ 670.000.000</td>\n",
       "    </tr>\n",
       "    <tr>\n",
       "      <th>9517</th>\n",
       "      <td>Local</td>\n",
       "      <td>Local en venta en Restrepo</td>\n",
       "      <td>8</td>\n",
       "      <td>6</td>\n",
       "      <td>383</td>\n",
       "      <td>Restrepo</td>\n",
       "      <td>Restrepo</td>\n",
       "      <td>$ 900.000.000</td>\n",
       "    </tr>\n",
       "    <tr>\n",
       "      <th>9518</th>\n",
       "      <td>Casa</td>\n",
       "      <td>Casa en venta en Engativa</td>\n",
       "      <td>3</td>\n",
       "      <td>2</td>\n",
       "      <td>183</td>\n",
       "      <td>Engativa</td>\n",
       "      <td>Engativá</td>\n",
       "      <td>$ 335.000.000</td>\n",
       "    </tr>\n",
       "    <tr>\n",
       "      <th>9519</th>\n",
       "      <td>Apartamento</td>\n",
       "      <td>Apartamento en venta en Tintala</td>\n",
       "      <td>3</td>\n",
       "      <td>1</td>\n",
       "      <td>52</td>\n",
       "      <td>Tintala</td>\n",
       "      <td>Tintala</td>\n",
       "      <td>$ 144.990.000</td>\n",
       "    </tr>\n",
       "  </tbody>\n",
       "</table>\n",
       "<p>9520 rows × 8 columns</p>\n",
       "</div>"
      ],
      "text/plain": [
       "             Tipo                                     Descripcion  \\\n",
       "0     Apartamento      Apartamento en venta en Zona Noroccidental   \n",
       "1            Casa                       Casa en venta en Castilla   \n",
       "2     Apartamento         Apartamento en venta en Chico Reservado   \n",
       "3     Apartamento                 Apartamento en venta en Usaquén   \n",
       "4     Apartamento             Apartamento en venta en Bella Suiza   \n",
       "...           ...                                             ...   \n",
       "9515  Apartamento                 Apartamento en venta en Kennedy   \n",
       "9516  Apartamento  Apartamento en venta en Parque Central Bavaria   \n",
       "9517        Local                      Local en venta en Restrepo   \n",
       "9518         Casa                       Casa en venta en Engativa   \n",
       "9519  Apartamento                 Apartamento en venta en Tintala   \n",
       "\n",
       "      Habitaciones  Banos  Area                  Barrio  \\\n",
       "0                3      2    70      Zona Noroccidental   \n",
       "1                4      3   170                Castilla   \n",
       "2                3      3   144         Chico Reservado   \n",
       "3                3      2   154                 Usaquén   \n",
       "4                2      3   128             Bella Suiza   \n",
       "...            ...    ...   ...                     ...   \n",
       "9515             3      2    70                 Kennedy   \n",
       "9516             2      2   100  Parque Central Bavaria   \n",
       "9517             8      6   383                Restrepo   \n",
       "9518             3      2   183                Engativa   \n",
       "9519             3      1    52                 Tintala   \n",
       "\n",
       "                                         UPZ            Valor  \n",
       "0         CHAPINERO: Pardo Rubio + Chapinero    $ 360.000.000  \n",
       "1                KENNEDY: Castilla + Bavaria    $ 670.000.000  \n",
       "2         CHAPINERO: Chicó Lago + El Refugio  $ 1.120.000.000  \n",
       "3                                    Usaquén    $ 890.000.000  \n",
       "4      USAQUÉN: Country Club + Santa Bárbara    $ 970.000.000  \n",
       "...                                      ...              ...  \n",
       "9515                         Kennedy Central    $ 290.000.000  \n",
       "9516  SANTA FE: Las Nieves + Sagrado Corazón    $ 670.000.000  \n",
       "9517                                Restrepo    $ 900.000.000  \n",
       "9518                                Engativá    $ 335.000.000  \n",
       "9519                                 Tintala    $ 144.990.000  \n",
       "\n",
       "[9520 rows x 8 columns]"
      ]
     },
     "execution_count": 2,
     "metadata": {},
     "output_type": "execute_result"
    }
   ],
   "source": [
    "columnas = {'Baños':'Banos','Área':'Area'}\n",
    "inmuebles = inmuebles.rename(columns=columnas)\n",
    "inmuebles"
   ]
  },
  {
   "cell_type": "code",
   "execution_count": 3,
   "metadata": {},
   "outputs": [
    {
     "data": {
      "text/plain": [
       "Barrio\n",
       "Modelia                  4316.750000\n",
       "Libertador                642.000000\n",
       "Bosa Piamonte             400.000000\n",
       "La Soledad                378.625000\n",
       "Restrepo                  336.500000\n",
       "Santa Librada             328.000000\n",
       "Las Ferias                320.000000\n",
       "Santa Ana                 309.375000\n",
       "Veraguas                  302.666667\n",
       "Bellavista Occidental     286.200000\n",
       "Name: Area, dtype: float64"
      ]
     },
     "execution_count": 3,
     "metadata": {},
     "output_type": "execute_result"
    }
   ],
   "source": [
    "inmuebles_prom_area_barrios = inmuebles.groupby('Barrio').Area.mean().sort_values(ascending=False)\n",
    "inmuebles_prom_area_barrios.head(10)"
   ]
  },
  {
   "cell_type": "code",
   "execution_count": 6,
   "metadata": {},
   "outputs": [
    {
     "data": {
      "text/plain": [
       "149"
      ]
     },
     "execution_count": 6,
     "metadata": {},
     "output_type": "execute_result"
    }
   ],
   "source": [
    "inmuebles_prom_area_barrios.count() #Conteo de barrios."
   ]
  },
  {
   "cell_type": "code",
   "execution_count": 7,
   "metadata": {},
   "outputs": [
    {
     "data": {
      "text/plain": [
       "163.86811445759508"
      ]
     },
     "execution_count": 7,
     "metadata": {},
     "output_type": "execute_result"
    }
   ],
   "source": [
    "inmuebles_prom_area_barrios.mean() #Promedio del promedio del área de cada barrio."
   ]
  },
  {
   "cell_type": "code",
   "execution_count": 9,
   "metadata": {},
   "outputs": [
    {
     "data": {
      "text/plain": [
       "4316.75"
      ]
     },
     "execution_count": 9,
     "metadata": {},
     "output_type": "execute_result"
    }
   ],
   "source": [
    "inmuebles_prom_area_barrios.max() #El promedio de área más grande."
   ]
  },
  {
   "cell_type": "code",
   "execution_count": 10,
   "metadata": {},
   "outputs": [
    {
     "data": {
      "text/plain": [
       "25.0"
      ]
     },
     "execution_count": 10,
     "metadata": {},
     "output_type": "execute_result"
    }
   ],
   "source": [
    "inmuebles_prom_area_barrios.min() #El promedio de área más pequeño."
   ]
  },
  {
   "cell_type": "code",
   "execution_count": 13,
   "metadata": {},
   "outputs": [
    {
     "data": {
      "text/plain": [
       "120.57142857142857"
      ]
     },
     "execution_count": 13,
     "metadata": {},
     "output_type": "execute_result"
    }
   ],
   "source": [
    "inmuebles_prom_area_barrios.median() #La mediana: El valor en el medio del rango de todos los valores de la muestra."
   ]
  },
  {
   "cell_type": "code",
   "execution_count": 16,
   "metadata": {},
   "outputs": [
    {
     "data": {
      "text/plain": [
       "41.0"
      ]
     },
     "execution_count": 16,
     "metadata": {},
     "output_type": "execute_result"
    }
   ],
   "source": [
    "inmuebles_prom_area_barrios.mode()[0] #La moda: el valor que ocurre con más frecuencia en el conjunto de la muestra"
   ]
  }
 ],
 "metadata": {
  "kernelspec": {
   "display_name": "Python 3",
   "language": "python",
   "name": "python3"
  },
  "language_info": {
   "codemirror_mode": {
    "name": "ipython",
    "version": 3
   },
   "file_extension": ".py",
   "mimetype": "text/x-python",
   "name": "python",
   "nbconvert_exporter": "python",
   "pygments_lexer": "ipython3",
   "version": "3.11.0"
  },
  "orig_nbformat": 4
 },
 "nbformat": 4,
 "nbformat_minor": 2
}
